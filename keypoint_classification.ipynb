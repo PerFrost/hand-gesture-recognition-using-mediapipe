{
 "cells": [
  {
   "cell_type": "code",
   "execution_count": 304,
   "metadata": {},
   "outputs": [],
   "source": [
    "import csv\n",
    "\n",
    "import numpy as np\n",
    "import tensorflow as tf\n",
    "from sklearn.model_selection import train_test_split\n",
    "\n",
    "RANDOM_SEED = 42"
   ]
  },
  {
   "cell_type": "markdown",
   "metadata": {},
   "source": [
    "# 各パス指定"
   ]
  },
  {
   "cell_type": "code",
   "execution_count": 305,
   "metadata": {},
   "outputs": [],
   "source": [
    "dataset = 'model/keypoint_classifier/keypoint.csv'\n",
    "model_save_path = 'model/keypoint_classifier/keypoint_classifier.hdf5'"
   ]
  },
  {
   "cell_type": "markdown",
   "metadata": {},
   "source": [
    "# 分類数設定"
   ]
  },
  {
   "cell_type": "code",
   "execution_count": 306,
   "metadata": {},
   "outputs": [],
   "source": [
    "NUM_CLASSES = 5"
   ]
  },
  {
   "cell_type": "markdown",
   "metadata": {},
   "source": [
    "# 学習データ読み込み"
   ]
  },
  {
   "cell_type": "code",
   "execution_count": 307,
   "metadata": {},
   "outputs": [],
   "source": [
    "X_dataset = np.loadtxt(dataset, delimiter=',', dtype='float32', usecols=list(range(1, (21 * 2) + 1)))"
   ]
  },
  {
   "cell_type": "code",
   "execution_count": 308,
   "metadata": {},
   "outputs": [],
   "source": [
    "y_dataset = np.loadtxt(dataset, delimiter=',', dtype='int32', usecols=(0))"
   ]
  },
  {
   "cell_type": "code",
   "execution_count": 309,
   "metadata": {},
   "outputs": [],
   "source": [
    "X_train, X_test, y_train, y_test = train_test_split(X_dataset, y_dataset, train_size=0.75, random_state=RANDOM_SEED)"
   ]
  },
  {
   "cell_type": "markdown",
   "metadata": {},
   "source": [
    "# モデル構築"
   ]
  },
  {
   "cell_type": "code",
   "execution_count": 310,
   "metadata": {},
   "outputs": [],
   "source": [
    "model = tf.keras.models.Sequential([\n",
    "    tf.keras.layers.Input((21 * 2, )),\n",
    "    tf.keras.layers.Dropout(0.2),\n",
    "    tf.keras.layers.Dense(20, activation='relu'),\n",
    "    tf.keras.layers.Dropout(0.4),\n",
    "    tf.keras.layers.Dense(10, activation='relu'),\n",
    "    tf.keras.layers.Dense(NUM_CLASSES, activation='softmax')\n",
    "])"
   ]
  },
  {
   "cell_type": "code",
   "execution_count": 311,
   "metadata": {},
   "outputs": [
    {
     "name": "stdout",
     "output_type": "stream",
     "text": [
      "Model: \"sequential_15\"\n",
      "_________________________________________________________________\n",
      " Layer (type)                Output Shape              Param #   \n",
      "=================================================================\n",
      " dropout_30 (Dropout)        (None, 42)                0         \n",
      "                                                                 \n",
      " dense_45 (Dense)            (None, 20)                860       \n",
      "                                                                 \n",
      " dropout_31 (Dropout)        (None, 20)                0         \n",
      "                                                                 \n",
      " dense_46 (Dense)            (None, 10)                210       \n",
      "                                                                 \n",
      " dense_47 (Dense)            (None, 5)                 55        \n",
      "                                                                 \n",
      "=================================================================\n",
      "Total params: 1,125\n",
      "Trainable params: 1,125\n",
      "Non-trainable params: 0\n",
      "_________________________________________________________________\n"
     ]
    }
   ],
   "source": [
    "model.summary()  # tf.keras.utils.plot_model(model, show_shapes=True)"
   ]
  },
  {
   "cell_type": "code",
   "execution_count": 312,
   "metadata": {},
   "outputs": [],
   "source": [
    "# モデルチェックポイントのコールバック\n",
    "cp_callback = tf.keras.callbacks.ModelCheckpoint(\n",
    "    model_save_path, verbose=1, save_weights_only=False)\n",
    "# 早期打ち切り用コールバック\n",
    "es_callback = tf.keras.callbacks.EarlyStopping(patience=20, verbose=1)"
   ]
  },
  {
   "cell_type": "code",
   "execution_count": 313,
   "metadata": {},
   "outputs": [],
   "source": [
    "# モデルコンパイル\n",
    "model.compile(\n",
    "    optimizer='adam',\n",
    "    loss='sparse_categorical_crossentropy',\n",
    "    metrics=['accuracy']\n",
    ")"
   ]
  },
  {
   "cell_type": "markdown",
   "metadata": {},
   "source": [
    "# モデル訓練"
   ]
  },
  {
   "cell_type": "code",
   "execution_count": 314,
   "metadata": {
    "scrolled": true
   },
   "outputs": [
    {
     "name": "stdout",
     "output_type": "stream",
     "text": [
      "Epoch 1/1000\n",
      "39/51 [=====================>........] - ETA: 0s - loss: 1.4671 - accuracy: 0.3868 \n",
      "Epoch 1: saving model to model/keypoint_classifier\\keypoint_classifier.hdf5\n",
      "51/51 [==============================] - 1s 10ms/step - loss: 1.4458 - accuracy: 0.3973 - val_loss: 1.2881 - val_accuracy: 0.4327\n",
      "Epoch 2/1000\n",
      "41/51 [=======================>......] - ETA: 0s - loss: 1.3271 - accuracy: 0.4495\n",
      "Epoch 2: saving model to model/keypoint_classifier\\keypoint_classifier.hdf5\n",
      "51/51 [==============================] - 0s 2ms/step - loss: 1.3138 - accuracy: 0.4502 - val_loss: 1.1677 - val_accuracy: 0.5403\n",
      "Epoch 3/1000\n",
      "39/51 [=====================>........] - ETA: 0s - loss: 1.2560 - accuracy: 0.4613\n",
      "Epoch 3: saving model to model/keypoint_classifier\\keypoint_classifier.hdf5\n",
      "51/51 [==============================] - 0s 2ms/step - loss: 1.2384 - accuracy: 0.4665 - val_loss: 1.0669 - val_accuracy: 0.5813\n",
      "Epoch 4/1000\n",
      "40/51 [======================>.......] - ETA: 0s - loss: 1.1550 - accuracy: 0.4912\n",
      "Epoch 4: saving model to model/keypoint_classifier\\keypoint_classifier.hdf5\n",
      "51/51 [==============================] - 0s 2ms/step - loss: 1.1518 - accuracy: 0.4891 - val_loss: 1.0003 - val_accuracy: 0.6274\n",
      "Epoch 5/1000\n",
      "39/51 [=====================>........] - ETA: 0s - loss: 1.1084 - accuracy: 0.5096\n",
      "Epoch 5: saving model to model/keypoint_classifier\\keypoint_classifier.hdf5\n",
      "51/51 [==============================] - 0s 2ms/step - loss: 1.0997 - accuracy: 0.5137 - val_loss: 0.9047 - val_accuracy: 0.6674\n",
      "Epoch 6/1000\n",
      "41/51 [=======================>......] - ETA: 0s - loss: 1.0633 - accuracy: 0.5278\n",
      "Epoch 6: saving model to model/keypoint_classifier\\keypoint_classifier.hdf5\n",
      "51/51 [==============================] - 0s 2ms/step - loss: 1.0544 - accuracy: 0.5339 - val_loss: 0.8338 - val_accuracy: 0.7462\n",
      "Epoch 7/1000\n",
      "43/51 [========================>.....] - ETA: 0s - loss: 1.0158 - accuracy: 0.5496\n",
      "Epoch 7: saving model to model/keypoint_classifier\\keypoint_classifier.hdf5\n",
      "51/51 [==============================] - 0s 2ms/step - loss: 1.0112 - accuracy: 0.5515 - val_loss: 0.7744 - val_accuracy: 0.8062\n",
      "Epoch 8/1000\n",
      "40/51 [======================>.......] - ETA: 0s - loss: 0.9708 - accuracy: 0.5795\n",
      "Epoch 8: saving model to model/keypoint_classifier\\keypoint_classifier.hdf5\n",
      "51/51 [==============================] - 0s 2ms/step - loss: 0.9643 - accuracy: 0.5821 - val_loss: 0.7119 - val_accuracy: 0.8267\n",
      "Epoch 9/1000\n",
      "41/51 [=======================>......] - ETA: 0s - loss: 0.9231 - accuracy: 0.5989\n",
      "Epoch 9: saving model to model/keypoint_classifier\\keypoint_classifier.hdf5\n",
      "51/51 [==============================] - 0s 2ms/step - loss: 0.9227 - accuracy: 0.6027 - val_loss: 0.6740 - val_accuracy: 0.8663\n",
      "Epoch 10/1000\n",
      "40/51 [======================>.......] - ETA: 0s - loss: 0.8987 - accuracy: 0.6176\n",
      "Epoch 10: saving model to model/keypoint_classifier\\keypoint_classifier.hdf5\n",
      "51/51 [==============================] - 0s 2ms/step - loss: 0.8907 - accuracy: 0.6221 - val_loss: 0.6214 - val_accuracy: 0.8831\n",
      "Epoch 11/1000\n",
      "41/51 [=======================>......] - ETA: 0s - loss: 0.8649 - accuracy: 0.6328\n",
      "Epoch 11: saving model to model/keypoint_classifier\\keypoint_classifier.hdf5\n",
      "51/51 [==============================] - 0s 2ms/step - loss: 0.8588 - accuracy: 0.6364 - val_loss: 0.5840 - val_accuracy: 0.8905\n",
      "Epoch 12/1000\n",
      "41/51 [=======================>......] - ETA: 0s - loss: 0.8344 - accuracy: 0.6456\n",
      "Epoch 12: saving model to model/keypoint_classifier\\keypoint_classifier.hdf5\n",
      "51/51 [==============================] - 0s 3ms/step - loss: 0.8349 - accuracy: 0.6453 - val_loss: 0.5573 - val_accuracy: 0.9068\n",
      "Epoch 13/1000\n",
      "37/51 [====================>.........] - ETA: 0s - loss: 0.8100 - accuracy: 0.6689\n",
      "Epoch 13: saving model to model/keypoint_classifier\\keypoint_classifier.hdf5\n",
      "51/51 [==============================] - 0s 2ms/step - loss: 0.8116 - accuracy: 0.6649 - val_loss: 0.5333 - val_accuracy: 0.9092\n",
      "Epoch 14/1000\n",
      "42/51 [=======================>......] - ETA: 0s - loss: 0.7882 - accuracy: 0.6749\n",
      "Epoch 14: saving model to model/keypoint_classifier\\keypoint_classifier.hdf5\n",
      "51/51 [==============================] - 0s 2ms/step - loss: 0.7845 - accuracy: 0.6728 - val_loss: 0.5028 - val_accuracy: 0.9152\n",
      "Epoch 15/1000\n",
      "45/51 [=========================>....] - ETA: 0s - loss: 0.7721 - accuracy: 0.6825\n",
      "Epoch 15: saving model to model/keypoint_classifier\\keypoint_classifier.hdf5\n",
      "51/51 [==============================] - 0s 2ms/step - loss: 0.7725 - accuracy: 0.6829 - val_loss: 0.4992 - val_accuracy: 0.9208\n",
      "Epoch 16/1000\n",
      "40/51 [======================>.......] - ETA: 0s - loss: 0.7571 - accuracy: 0.6908\n",
      "Epoch 16: saving model to model/keypoint_classifier\\keypoint_classifier.hdf5\n",
      "51/51 [==============================] - 0s 2ms/step - loss: 0.7590 - accuracy: 0.6945 - val_loss: 0.4657 - val_accuracy: 0.9292\n",
      "Epoch 17/1000\n",
      "39/51 [=====================>........] - ETA: 0s - loss: 0.7554 - accuracy: 0.6941\n",
      "Epoch 17: saving model to model/keypoint_classifier\\keypoint_classifier.hdf5\n",
      "51/51 [==============================] - 0s 2ms/step - loss: 0.7578 - accuracy: 0.6900 - val_loss: 0.4557 - val_accuracy: 0.9357\n",
      "Epoch 18/1000\n",
      "43/51 [========================>.....] - ETA: 0s - loss: 0.7568 - accuracy: 0.6902\n",
      "Epoch 18: saving model to model/keypoint_classifier\\keypoint_classifier.hdf5\n",
      "51/51 [==============================] - 0s 2ms/step - loss: 0.7530 - accuracy: 0.6958 - val_loss: 0.4496 - val_accuracy: 0.9385\n",
      "Epoch 19/1000\n",
      "40/51 [======================>.......] - ETA: 0s - loss: 0.7263 - accuracy: 0.7041\n",
      "Epoch 19: saving model to model/keypoint_classifier\\keypoint_classifier.hdf5\n",
      "51/51 [==============================] - 0s 2ms/step - loss: 0.7210 - accuracy: 0.7060 - val_loss: 0.4287 - val_accuracy: 0.9432\n",
      "Epoch 20/1000\n",
      "41/51 [=======================>......] - ETA: 0s - loss: 0.7037 - accuracy: 0.7121\n",
      "Epoch 20: saving model to model/keypoint_classifier\\keypoint_classifier.hdf5\n",
      "51/51 [==============================] - 0s 2ms/step - loss: 0.7036 - accuracy: 0.7132 - val_loss: 0.4087 - val_accuracy: 0.9432\n",
      "Epoch 21/1000\n",
      "41/51 [=======================>......] - ETA: 0s - loss: 0.7064 - accuracy: 0.7237\n",
      "Epoch 21: saving model to model/keypoint_classifier\\keypoint_classifier.hdf5\n",
      "51/51 [==============================] - 0s 2ms/step - loss: 0.7053 - accuracy: 0.7243 - val_loss: 0.4089 - val_accuracy: 0.9478\n",
      "Epoch 22/1000\n",
      "40/51 [======================>.......] - ETA: 0s - loss: 0.6841 - accuracy: 0.7258\n",
      "Epoch 22: saving model to model/keypoint_classifier\\keypoint_classifier.hdf5\n",
      "51/51 [==============================] - 0s 2ms/step - loss: 0.6877 - accuracy: 0.7211 - val_loss: 0.4022 - val_accuracy: 0.9506\n",
      "Epoch 23/1000\n",
      "42/51 [=======================>......] - ETA: 0s - loss: 0.6872 - accuracy: 0.7294\n",
      "Epoch 23: saving model to model/keypoint_classifier\\keypoint_classifier.hdf5\n",
      "51/51 [==============================] - 0s 6ms/step - loss: 0.6852 - accuracy: 0.7307 - val_loss: 0.3932 - val_accuracy: 0.9497\n",
      "Epoch 24/1000\n",
      "38/51 [=====================>........] - ETA: 0s - loss: 0.6714 - accuracy: 0.7422\n",
      "Epoch 24: saving model to model/keypoint_classifier\\keypoint_classifier.hdf5\n",
      "51/51 [==============================] - 0s 3ms/step - loss: 0.6711 - accuracy: 0.7416 - val_loss: 0.3756 - val_accuracy: 0.9502\n",
      "Epoch 25/1000\n",
      "39/51 [=====================>........] - ETA: 0s - loss: 0.6708 - accuracy: 0.7384\n",
      "Epoch 25: saving model to model/keypoint_classifier\\keypoint_classifier.hdf5\n",
      "51/51 [==============================] - 0s 2ms/step - loss: 0.6687 - accuracy: 0.7366 - val_loss: 0.3677 - val_accuracy: 0.9534\n",
      "Epoch 26/1000\n",
      "40/51 [======================>.......] - ETA: 0s - loss: 0.6502 - accuracy: 0.7475\n",
      "Epoch 26: saving model to model/keypoint_classifier\\keypoint_classifier.hdf5\n",
      "51/51 [==============================] - 0s 2ms/step - loss: 0.6550 - accuracy: 0.7473 - val_loss: 0.3600 - val_accuracy: 0.9530\n",
      "Epoch 27/1000\n",
      "44/51 [========================>.....] - ETA: 0s - loss: 0.6542 - accuracy: 0.7461\n",
      "Epoch 27: saving model to model/keypoint_classifier\\keypoint_classifier.hdf5\n",
      "51/51 [==============================] - 0s 2ms/step - loss: 0.6528 - accuracy: 0.7487 - val_loss: 0.3503 - val_accuracy: 0.9548\n",
      "Epoch 28/1000\n",
      "41/51 [=======================>......] - ETA: 0s - loss: 0.6496 - accuracy: 0.7449\n",
      "Epoch 28: saving model to model/keypoint_classifier\\keypoint_classifier.hdf5\n",
      "51/51 [==============================] - 0s 2ms/step - loss: 0.6524 - accuracy: 0.7445 - val_loss: 0.3575 - val_accuracy: 0.9558\n",
      "Epoch 29/1000\n",
      "42/51 [=======================>......] - ETA: 0s - loss: 0.6492 - accuracy: 0.7500\n",
      "Epoch 29: saving model to model/keypoint_classifier\\keypoint_classifier.hdf5\n",
      "51/51 [==============================] - 0s 2ms/step - loss: 0.6507 - accuracy: 0.7506 - val_loss: 0.3596 - val_accuracy: 0.9567\n",
      "Epoch 30/1000\n",
      "43/51 [========================>.....] - ETA: 0s - loss: 0.6566 - accuracy: 0.7420\n",
      "Epoch 30: saving model to model/keypoint_classifier\\keypoint_classifier.hdf5\n",
      "51/51 [==============================] - 0s 2ms/step - loss: 0.6499 - accuracy: 0.7462 - val_loss: 0.3417 - val_accuracy: 0.9599\n",
      "Epoch 31/1000\n",
      "40/51 [======================>.......] - ETA: 0s - loss: 0.6257 - accuracy: 0.7629\n",
      "Epoch 31: saving model to model/keypoint_classifier\\keypoint_classifier.hdf5\n",
      "51/51 [==============================] - 0s 2ms/step - loss: 0.6276 - accuracy: 0.7610 - val_loss: 0.3410 - val_accuracy: 0.9571\n",
      "Epoch 32/1000\n",
      "42/51 [=======================>......] - ETA: 0s - loss: 0.6272 - accuracy: 0.7599\n",
      "Epoch 32: saving model to model/keypoint_classifier\\keypoint_classifier.hdf5\n",
      "51/51 [==============================] - 0s 2ms/step - loss: 0.6283 - accuracy: 0.7607 - val_loss: 0.3355 - val_accuracy: 0.9567\n",
      "Epoch 33/1000\n",
      "42/51 [=======================>......] - ETA: 0s - loss: 0.6031 - accuracy: 0.7677\n",
      "Epoch 33: saving model to model/keypoint_classifier\\keypoint_classifier.hdf5\n",
      "51/51 [==============================] - 0s 2ms/step - loss: 0.6037 - accuracy: 0.7672 - val_loss: 0.3044 - val_accuracy: 0.9623\n",
      "Epoch 34/1000\n",
      "41/51 [=======================>......] - ETA: 0s - loss: 0.6068 - accuracy: 0.7620\n",
      "Epoch 34: saving model to model/keypoint_classifier\\keypoint_classifier.hdf5\n",
      "51/51 [==============================] - 0s 2ms/step - loss: 0.6072 - accuracy: 0.7646 - val_loss: 0.3259 - val_accuracy: 0.9604\n",
      "Epoch 35/1000\n",
      "41/51 [=======================>......] - ETA: 0s - loss: 0.6201 - accuracy: 0.7569\n",
      "Epoch 35: saving model to model/keypoint_classifier\\keypoint_classifier.hdf5\n",
      "51/51 [==============================] - 0s 2ms/step - loss: 0.6196 - accuracy: 0.7534 - val_loss: 0.3153 - val_accuracy: 0.9623\n",
      "Epoch 36/1000\n",
      "41/51 [=======================>......] - ETA: 0s - loss: 0.6269 - accuracy: 0.7532\n",
      "Epoch 36: saving model to model/keypoint_classifier\\keypoint_classifier.hdf5\n",
      "51/51 [==============================] - 0s 2ms/step - loss: 0.6290 - accuracy: 0.7529 - val_loss: 0.3125 - val_accuracy: 0.9632\n",
      "Epoch 37/1000\n",
      "42/51 [=======================>......] - ETA: 0s - loss: 0.5995 - accuracy: 0.7643\n",
      "Epoch 37: saving model to model/keypoint_classifier\\keypoint_classifier.hdf5\n",
      "51/51 [==============================] - 0s 2ms/step - loss: 0.5981 - accuracy: 0.7649 - val_loss: 0.3060 - val_accuracy: 0.9623\n",
      "Epoch 38/1000\n",
      "41/51 [=======================>......] - ETA: 0s - loss: 0.6009 - accuracy: 0.7664\n",
      "Epoch 38: saving model to model/keypoint_classifier\\keypoint_classifier.hdf5\n",
      "51/51 [==============================] - 0s 2ms/step - loss: 0.5969 - accuracy: 0.7681 - val_loss: 0.3185 - val_accuracy: 0.9623\n",
      "Epoch 39/1000\n",
      "42/51 [=======================>......] - ETA: 0s - loss: 0.6045 - accuracy: 0.7705\n",
      "Epoch 39: saving model to model/keypoint_classifier\\keypoint_classifier.hdf5\n",
      "51/51 [==============================] - 0s 2ms/step - loss: 0.5981 - accuracy: 0.7729 - val_loss: 0.3035 - val_accuracy: 0.9655\n",
      "Epoch 40/1000\n",
      "41/51 [=======================>......] - ETA: 0s - loss: 0.6011 - accuracy: 0.7681\n",
      "Epoch 40: saving model to model/keypoint_classifier\\keypoint_classifier.hdf5\n",
      "51/51 [==============================] - 0s 2ms/step - loss: 0.5932 - accuracy: 0.7733 - val_loss: 0.3031 - val_accuracy: 0.9613\n",
      "Epoch 41/1000\n",
      "42/51 [=======================>......] - ETA: 0s - loss: 0.5833 - accuracy: 0.7721\n",
      "Epoch 41: saving model to model/keypoint_classifier\\keypoint_classifier.hdf5\n",
      "51/51 [==============================] - 0s 2ms/step - loss: 0.5868 - accuracy: 0.7681 - val_loss: 0.3024 - val_accuracy: 0.9632\n",
      "Epoch 42/1000\n",
      "40/51 [======================>.......] - ETA: 0s - loss: 0.5828 - accuracy: 0.7758\n",
      "Epoch 42: saving model to model/keypoint_classifier\\keypoint_classifier.hdf5\n",
      "51/51 [==============================] - 0s 2ms/step - loss: 0.5826 - accuracy: 0.7770 - val_loss: 0.2977 - val_accuracy: 0.9618\n",
      "Epoch 43/1000\n",
      "41/51 [=======================>......] - ETA: 0s - loss: 0.5868 - accuracy: 0.7719\n",
      "Epoch 43: saving model to model/keypoint_classifier\\keypoint_classifier.hdf5\n",
      "51/51 [==============================] - 0s 2ms/step - loss: 0.5805 - accuracy: 0.7742 - val_loss: 0.2912 - val_accuracy: 0.9674\n",
      "Epoch 44/1000\n",
      "41/51 [=======================>......] - ETA: 0s - loss: 0.5883 - accuracy: 0.7700\n",
      "Epoch 44: saving model to model/keypoint_classifier\\keypoint_classifier.hdf5\n",
      "51/51 [==============================] - 0s 2ms/step - loss: 0.5840 - accuracy: 0.7728 - val_loss: 0.3022 - val_accuracy: 0.9637\n",
      "Epoch 45/1000\n",
      "43/51 [========================>.....] - ETA: 0s - loss: 0.5832 - accuracy: 0.7682\n",
      "Epoch 45: saving model to model/keypoint_classifier\\keypoint_classifier.hdf5\n",
      "51/51 [==============================] - 0s 2ms/step - loss: 0.5859 - accuracy: 0.7666 - val_loss: 0.2969 - val_accuracy: 0.9665\n",
      "Epoch 46/1000\n",
      "43/51 [========================>.....] - ETA: 0s - loss: 0.5942 - accuracy: 0.7733\n",
      "Epoch 46: saving model to model/keypoint_classifier\\keypoint_classifier.hdf5\n",
      "51/51 [==============================] - 0s 2ms/step - loss: 0.5913 - accuracy: 0.7734 - val_loss: 0.2826 - val_accuracy: 0.9683\n",
      "Epoch 47/1000\n",
      "41/51 [=======================>......] - ETA: 0s - loss: 0.5651 - accuracy: 0.7797\n",
      "Epoch 47: saving model to model/keypoint_classifier\\keypoint_classifier.hdf5\n",
      "51/51 [==============================] - 0s 6ms/step - loss: 0.5686 - accuracy: 0.7765 - val_loss: 0.2783 - val_accuracy: 0.9655\n",
      "Epoch 48/1000\n",
      "42/51 [=======================>......] - ETA: 0s - loss: 0.5593 - accuracy: 0.7807\n",
      "Epoch 48: saving model to model/keypoint_classifier\\keypoint_classifier.hdf5\n",
      "51/51 [==============================] - 0s 2ms/step - loss: 0.5598 - accuracy: 0.7787 - val_loss: 0.2772 - val_accuracy: 0.9669\n",
      "Epoch 49/1000\n",
      "35/51 [===================>..........] - ETA: 0s - loss: 0.5749 - accuracy: 0.7768\n",
      "Epoch 49: saving model to model/keypoint_classifier\\keypoint_classifier.hdf5\n",
      "51/51 [==============================] - 0s 2ms/step - loss: 0.5766 - accuracy: 0.7781 - val_loss: 0.2789 - val_accuracy: 0.9679\n",
      "Epoch 50/1000\n",
      "41/51 [=======================>......] - ETA: 0s - loss: 0.5619 - accuracy: 0.7843\n",
      "Epoch 50: saving model to model/keypoint_classifier\\keypoint_classifier.hdf5\n",
      "51/51 [==============================] - 0s 2ms/step - loss: 0.5707 - accuracy: 0.7798 - val_loss: 0.2895 - val_accuracy: 0.9655\n",
      "Epoch 51/1000\n",
      "40/51 [======================>.......] - ETA: 0s - loss: 0.5779 - accuracy: 0.7770\n",
      "Epoch 51: saving model to model/keypoint_classifier\\keypoint_classifier.hdf5\n",
      "51/51 [==============================] - 0s 2ms/step - loss: 0.5746 - accuracy: 0.7781 - val_loss: 0.2838 - val_accuracy: 0.9683\n",
      "Epoch 52/1000\n",
      "43/51 [========================>.....] - ETA: 0s - loss: 0.5456 - accuracy: 0.7852\n",
      "Epoch 52: saving model to model/keypoint_classifier\\keypoint_classifier.hdf5\n",
      "51/51 [==============================] - 0s 2ms/step - loss: 0.5509 - accuracy: 0.7866 - val_loss: 0.2791 - val_accuracy: 0.9674\n",
      "Epoch 53/1000\n",
      "40/51 [======================>.......] - ETA: 0s - loss: 0.5685 - accuracy: 0.7809\n",
      "Epoch 53: saving model to model/keypoint_classifier\\keypoint_classifier.hdf5\n",
      "51/51 [==============================] - 0s 2ms/step - loss: 0.5664 - accuracy: 0.7813 - val_loss: 0.2657 - val_accuracy: 0.9702\n",
      "Epoch 54/1000\n",
      "40/51 [======================>.......] - ETA: 0s - loss: 0.5494 - accuracy: 0.7855\n",
      "Epoch 54: saving model to model/keypoint_classifier\\keypoint_classifier.hdf5\n",
      "51/51 [==============================] - 0s 2ms/step - loss: 0.5530 - accuracy: 0.7847 - val_loss: 0.2706 - val_accuracy: 0.9679\n",
      "Epoch 55/1000\n",
      "43/51 [========================>.....] - ETA: 0s - loss: 0.5435 - accuracy: 0.7812\n",
      "Epoch 55: saving model to model/keypoint_classifier\\keypoint_classifier.hdf5\n",
      "51/51 [==============================] - 0s 2ms/step - loss: 0.5447 - accuracy: 0.7847 - val_loss: 0.2683 - val_accuracy: 0.9679\n",
      "Epoch 56/1000\n",
      "40/51 [======================>.......] - ETA: 0s - loss: 0.5498 - accuracy: 0.7799\n",
      "Epoch 56: saving model to model/keypoint_classifier\\keypoint_classifier.hdf5\n",
      "51/51 [==============================] - 0s 2ms/step - loss: 0.5522 - accuracy: 0.7801 - val_loss: 0.2697 - val_accuracy: 0.9655\n",
      "Epoch 57/1000\n",
      "23/51 [============>.................] - ETA: 0s - loss: 0.5485 - accuracy: 0.7799\n",
      "Epoch 57: saving model to model/keypoint_classifier\\keypoint_classifier.hdf5\n",
      "51/51 [==============================] - 0s 3ms/step - loss: 0.5493 - accuracy: 0.7829 - val_loss: 0.2708 - val_accuracy: 0.9665\n",
      "Epoch 58/1000\n",
      "42/51 [=======================>......] - ETA: 0s - loss: 0.5712 - accuracy: 0.7751\n",
      "Epoch 58: saving model to model/keypoint_classifier\\keypoint_classifier.hdf5\n",
      "51/51 [==============================] - 0s 2ms/step - loss: 0.5622 - accuracy: 0.7778 - val_loss: 0.2696 - val_accuracy: 0.9721\n",
      "Epoch 59/1000\n",
      "40/51 [======================>.......] - ETA: 0s - loss: 0.5490 - accuracy: 0.7822\n",
      "Epoch 59: saving model to model/keypoint_classifier\\keypoint_classifier.hdf5\n",
      "51/51 [==============================] - 0s 2ms/step - loss: 0.5457 - accuracy: 0.7854 - val_loss: 0.2784 - val_accuracy: 0.9716\n",
      "Epoch 60/1000\n",
      "44/51 [========================>.....] - ETA: 0s - loss: 0.5348 - accuracy: 0.7926\n",
      "Epoch 60: saving model to model/keypoint_classifier\\keypoint_classifier.hdf5\n",
      "51/51 [==============================] - 0s 2ms/step - loss: 0.5360 - accuracy: 0.7910 - val_loss: 0.2700 - val_accuracy: 0.9725\n",
      "Epoch 61/1000\n",
      "40/51 [======================>.......] - ETA: 0s - loss: 0.5625 - accuracy: 0.7775\n",
      "Epoch 61: saving model to model/keypoint_classifier\\keypoint_classifier.hdf5\n",
      "51/51 [==============================] - 0s 2ms/step - loss: 0.5509 - accuracy: 0.7840 - val_loss: 0.2509 - val_accuracy: 0.9707\n",
      "Epoch 62/1000\n",
      "40/51 [======================>.......] - ETA: 0s - loss: 0.5496 - accuracy: 0.7803\n",
      "Epoch 62: saving model to model/keypoint_classifier\\keypoint_classifier.hdf5\n",
      "51/51 [==============================] - 0s 2ms/step - loss: 0.5510 - accuracy: 0.7801 - val_loss: 0.2745 - val_accuracy: 0.9679\n",
      "Epoch 63/1000\n",
      "40/51 [======================>.......] - ETA: 0s - loss: 0.5413 - accuracy: 0.7965\n",
      "Epoch 63: saving model to model/keypoint_classifier\\keypoint_classifier.hdf5\n",
      "51/51 [==============================] - 0s 2ms/step - loss: 0.5359 - accuracy: 0.7958 - val_loss: 0.2573 - val_accuracy: 0.9730\n",
      "Epoch 64/1000\n",
      "38/51 [=====================>........] - ETA: 0s - loss: 0.5383 - accuracy: 0.7864\n",
      "Epoch 64: saving model to model/keypoint_classifier\\keypoint_classifier.hdf5\n",
      "51/51 [==============================] - 0s 2ms/step - loss: 0.5351 - accuracy: 0.7874 - val_loss: 0.2540 - val_accuracy: 0.9730\n",
      "Epoch 65/1000\n",
      "42/51 [=======================>......] - ETA: 0s - loss: 0.5305 - accuracy: 0.7892\n",
      "Epoch 65: saving model to model/keypoint_classifier\\keypoint_classifier.hdf5\n",
      "51/51 [==============================] - 0s 2ms/step - loss: 0.5340 - accuracy: 0.7888 - val_loss: 0.2731 - val_accuracy: 0.9725\n",
      "Epoch 66/1000\n",
      "40/51 [======================>.......] - ETA: 0s - loss: 0.5478 - accuracy: 0.7830\n",
      "Epoch 66: saving model to model/keypoint_classifier\\keypoint_classifier.hdf5\n",
      "51/51 [==============================] - 0s 2ms/step - loss: 0.5364 - accuracy: 0.7910 - val_loss: 0.2631 - val_accuracy: 0.9762\n",
      "Epoch 67/1000\n",
      "40/51 [======================>.......] - ETA: 0s - loss: 0.5272 - accuracy: 0.7977\n",
      "Epoch 67: saving model to model/keypoint_classifier\\keypoint_classifier.hdf5\n",
      "51/51 [==============================] - 0s 2ms/step - loss: 0.5274 - accuracy: 0.7947 - val_loss: 0.2720 - val_accuracy: 0.9693\n",
      "Epoch 68/1000\n",
      "42/51 [=======================>......] - ETA: 0s - loss: 0.5419 - accuracy: 0.7885\n",
      "Epoch 68: saving model to model/keypoint_classifier\\keypoint_classifier.hdf5\n",
      "51/51 [==============================] - 0s 2ms/step - loss: 0.5394 - accuracy: 0.7900 - val_loss: 0.2909 - val_accuracy: 0.9665\n",
      "Epoch 69/1000\n",
      "43/51 [========================>.....] - ETA: 0s - loss: 0.5310 - accuracy: 0.7903\n",
      "Epoch 69: saving model to model/keypoint_classifier\\keypoint_classifier.hdf5\n",
      "51/51 [==============================] - 0s 2ms/step - loss: 0.5260 - accuracy: 0.7891 - val_loss: 0.2638 - val_accuracy: 0.9688\n",
      "Epoch 70/1000\n",
      "41/51 [=======================>......] - ETA: 0s - loss: 0.5183 - accuracy: 0.7969\n",
      "Epoch 70: saving model to model/keypoint_classifier\\keypoint_classifier.hdf5\n",
      "51/51 [==============================] - 0s 2ms/step - loss: 0.5222 - accuracy: 0.7961 - val_loss: 0.2649 - val_accuracy: 0.9707\n",
      "Epoch 71/1000\n",
      "40/51 [======================>.......] - ETA: 0s - loss: 0.5184 - accuracy: 0.7967\n",
      "Epoch 71: saving model to model/keypoint_classifier\\keypoint_classifier.hdf5\n",
      "51/51 [==============================] - 0s 2ms/step - loss: 0.5276 - accuracy: 0.7897 - val_loss: 0.2865 - val_accuracy: 0.9679\n",
      "Epoch 72/1000\n",
      "38/51 [=====================>........] - ETA: 0s - loss: 0.5115 - accuracy: 0.7985\n",
      "Epoch 72: saving model to model/keypoint_classifier\\keypoint_classifier.hdf5\n",
      "51/51 [==============================] - 0s 2ms/step - loss: 0.5263 - accuracy: 0.7931 - val_loss: 0.2712 - val_accuracy: 0.9702\n",
      "Epoch 73/1000\n",
      "42/51 [=======================>......] - ETA: 0s - loss: 0.5126 - accuracy: 0.7971\n",
      "Epoch 73: saving model to model/keypoint_classifier\\keypoint_classifier.hdf5\n",
      "51/51 [==============================] - 0s 2ms/step - loss: 0.5171 - accuracy: 0.7953 - val_loss: 0.2509 - val_accuracy: 0.9693\n",
      "Epoch 74/1000\n",
      "40/51 [======================>.......] - ETA: 0s - loss: 0.5328 - accuracy: 0.7883\n",
      "Epoch 74: saving model to model/keypoint_classifier\\keypoint_classifier.hdf5\n",
      "51/51 [==============================] - 0s 2ms/step - loss: 0.5349 - accuracy: 0.7857 - val_loss: 0.2789 - val_accuracy: 0.9660\n",
      "Epoch 75/1000\n",
      "42/51 [=======================>......] - ETA: 0s - loss: 0.5119 - accuracy: 0.8002\n",
      "Epoch 75: saving model to model/keypoint_classifier\\keypoint_classifier.hdf5\n",
      "51/51 [==============================] - 0s 2ms/step - loss: 0.5082 - accuracy: 0.8012 - val_loss: 0.2551 - val_accuracy: 0.9697\n",
      "Epoch 76/1000\n",
      "43/51 [========================>.....] - ETA: 0s - loss: 0.5250 - accuracy: 0.7978\n",
      "Epoch 76: saving model to model/keypoint_classifier\\keypoint_classifier.hdf5\n",
      "51/51 [==============================] - 0s 2ms/step - loss: 0.5206 - accuracy: 0.7990 - val_loss: 0.2583 - val_accuracy: 0.9725\n",
      "Epoch 77/1000\n",
      "42/51 [=======================>......] - ETA: 0s - loss: 0.5111 - accuracy: 0.7984\n",
      "Epoch 77: saving model to model/keypoint_classifier\\keypoint_classifier.hdf5\n",
      "51/51 [==============================] - 0s 2ms/step - loss: 0.5165 - accuracy: 0.7973 - val_loss: 0.2712 - val_accuracy: 0.9739\n",
      "Epoch 78/1000\n",
      "40/51 [======================>.......] - ETA: 0s - loss: 0.5208 - accuracy: 0.7924\n",
      "Epoch 78: saving model to model/keypoint_classifier\\keypoint_classifier.hdf5\n",
      "51/51 [==============================] - 0s 2ms/step - loss: 0.5198 - accuracy: 0.7930 - val_loss: 0.2721 - val_accuracy: 0.9707\n",
      "Epoch 79/1000\n",
      "42/51 [=======================>......] - ETA: 0s - loss: 0.5122 - accuracy: 0.8039\n",
      "Epoch 79: saving model to model/keypoint_classifier\\keypoint_classifier.hdf5\n",
      "51/51 [==============================] - 0s 2ms/step - loss: 0.5082 - accuracy: 0.8048 - val_loss: 0.2621 - val_accuracy: 0.9716\n",
      "Epoch 80/1000\n",
      "42/51 [=======================>......] - ETA: 0s - loss: 0.5022 - accuracy: 0.8034\n",
      "Epoch 80: saving model to model/keypoint_classifier\\keypoint_classifier.hdf5\n",
      "51/51 [==============================] - 0s 2ms/step - loss: 0.5082 - accuracy: 0.8018 - val_loss: 0.2661 - val_accuracy: 0.9651\n",
      "Epoch 81/1000\n",
      "41/51 [=======================>......] - ETA: 0s - loss: 0.5265 - accuracy: 0.7955\n",
      "Epoch 81: saving model to model/keypoint_classifier\\keypoint_classifier.hdf5\n",
      "51/51 [==============================] - 0s 2ms/step - loss: 0.5271 - accuracy: 0.7950 - val_loss: 0.2771 - val_accuracy: 0.9707\n",
      "Epoch 81: early stopping\n"
     ]
    },
    {
     "data": {
      "text/plain": [
       "<keras.callbacks.History at 0x2a66094c7c0>"
      ]
     },
     "execution_count": 314,
     "metadata": {},
     "output_type": "execute_result"
    }
   ],
   "source": [
    "model.fit(\n",
    "    X_train,\n",
    "    y_train,\n",
    "    epochs=1000,\n",
    "    batch_size=128,\n",
    "    validation_data=(X_test, y_test),\n",
    "    callbacks=[cp_callback, es_callback]\n",
    ")"
   ]
  },
  {
   "cell_type": "code",
   "execution_count": 315,
   "metadata": {},
   "outputs": [
    {
     "name": "stdout",
     "output_type": "stream",
     "text": [
      "17/17 [==============================] - 0s 1ms/step - loss: 0.2771 - accuracy: 0.9707\n"
     ]
    }
   ],
   "source": [
    "# モデル評価\n",
    "val_loss, val_acc = model.evaluate(X_test, y_test, batch_size=128)"
   ]
  },
  {
   "cell_type": "code",
   "execution_count": 316,
   "metadata": {},
   "outputs": [],
   "source": [
    "# 保存したモデルのロード\n",
    "model = tf.keras.models.load_model(model_save_path)"
   ]
  },
  {
   "cell_type": "code",
   "execution_count": 317,
   "metadata": {},
   "outputs": [
    {
     "name": "stdout",
     "output_type": "stream",
     "text": [
      "1/1 [==============================] - 0s 54ms/step\n",
      "[5.3236692e-04 1.3581756e-01 5.9001562e-05 8.6350775e-01 8.3382052e-05]\n",
      "3\n"
     ]
    }
   ],
   "source": [
    "# 推論テスト\n",
    "predict_result = model.predict(np.array([X_test[0]]))\n",
    "print(np.squeeze(predict_result))\n",
    "print(np.argmax(np.squeeze(predict_result)))"
   ]
  },
  {
   "cell_type": "markdown",
   "metadata": {},
   "source": [
    "# 混同行列"
   ]
  },
  {
   "cell_type": "code",
   "execution_count": 318,
   "metadata": {},
   "outputs": [
    {
     "name": "stdout",
     "output_type": "stream",
     "text": [
      "68/68 [==============================] - 0s 627us/step\n"
     ]
    },
    {
     "data": {
      "image/png": "[encoded data removed]",
      "text/plain": [
       "<Figure size 700x600 with 2 Axes>"
      ]
     },
     "metadata": {},
     "output_type": "display_data"
    },
    {
     "name": "stdout",
     "output_type": "stream",
     "text": [
      "Classification Report\n",
      "              precision    recall  f1-score   support\n",
      "\n",
      "           0       0.96      0.99      0.97       413\n",
      "           1       0.99      0.94      0.97       933\n",
      "           2       0.89      1.00      0.94       306\n",
      "           3       1.00      0.99      0.99       326\n",
      "           4       0.98      1.00      0.99       169\n",
      "\n",
      "    accuracy                           0.97      2147\n",
      "   macro avg       0.97      0.98      0.97      2147\n",
      "weighted avg       0.97      0.97      0.97      2147\n",
      "\n"
     ]
    }
   ],
   "source": [
    "import pandas as pd\n",
    "import seaborn as sns\n",
    "import matplotlib.pyplot as plt\n",
    "from sklearn.metrics import confusion_matrix, classification_report\n",
    "\n",
    "def print_confusion_matrix(y_true, y_pred, report=True):\n",
    "    labels = sorted(list(set(y_true)))\n",
    "    cmx_data = confusion_matrix(y_true, y_pred, labels=labels)\n",
    "    \n",
    "    df_cmx = pd.DataFrame(cmx_data, index=labels, columns=labels)\n",
    " \n",
    "    fig, ax = plt.subplots(figsize=(7, 6))\n",
    "    sns.heatmap(df_cmx, annot=True, fmt='g' ,square=False)\n",
    "    ax.set_ylim(len(set(y_true)), 0)\n",
    "    plt.show()\n",
    "    \n",
    "    if report:\n",
    "        print('Classification Report')\n",
    "        print(classification_report(y_test, y_pred))\n",
    "\n",
    "Y_pred = model.predict(X_test)\n",
    "y_pred = np.argmax(Y_pred, axis=1)\n",
    "\n",
    "print_confusion_matrix(y_test, y_pred)"
   ]
  },
  {
   "cell_type": "markdown",
   "metadata": {},
   "source": [
    "# Tensorflow-Lite用のモデルへ変換"
   ]
  },
  {
   "cell_type": "code",
   "execution_count": 319,
   "metadata": {},
   "outputs": [],
   "source": [
    "# 推論専用のモデルとして保存\n",
    "model.save(model_save_path, include_optimizer=False)"
   ]
  },
  {
   "cell_type": "code",
   "execution_count": 320,
   "metadata": {},
   "outputs": [
    {
     "name": "stdout",
     "output_type": "stream",
     "text": [
      "INFO:tensorflow:Assets written to: C:\\Users\\Lasse\\AppData\\Local\\Temp\\tmp0j32157t\\assets\n"
     ]
    },
    {
     "name": "stderr",
     "output_type": "stream",
     "text": [
      "INFO:tensorflow:Assets written to: C:\\Users\\Lasse\\AppData\\Local\\Temp\\tmp0j32157t\\assets\n"
     ]
    },
    {
     "data": {
      "text/plain": [
       "6668"
      ]
     },
     "execution_count": 320,
     "metadata": {},
     "output_type": "execute_result"
    }
   ],
   "source": [
    "# モデルを変換(量子化)\n",
    "tflite_save_path = 'model/keypoint_classifier/keypoint_classifier.tflite'\n",
    "\n",
    "converter = tf.lite.TFLiteConverter.from_keras_model(model)\n",
    "converter.optimizations = [tf.lite.Optimize.DEFAULT]\n",
    "tflite_quantized_model = converter.convert()\n",
    "\n",
    "open(tflite_save_path, 'wb').write(tflite_quantized_model)"
   ]
  },
  {
   "cell_type": "markdown",
   "metadata": {},
   "source": [
    "# 推論テスト"
   ]
  },
  {
   "cell_type": "code",
   "execution_count": 321,
   "metadata": {},
   "outputs": [],
   "source": [
    "interpreter = tf.lite.Interpreter(model_path=tflite_save_path)\n",
    "interpreter.allocate_tensors()"
   ]
  },
  {
   "cell_type": "code",
   "execution_count": 322,
   "metadata": {},
   "outputs": [],
   "source": [
    "# 入出力テンソルを取得\n",
    "input_details = interpreter.get_input_details()\n",
    "output_details = interpreter.get_output_details()"
   ]
  },
  {
   "cell_type": "code",
   "execution_count": 323,
   "metadata": {},
   "outputs": [],
   "source": [
    "interpreter.set_tensor(input_details[0]['index'], np.array([X_test[0]]))"
   ]
  },
  {
   "cell_type": "code",
   "execution_count": 324,
   "metadata": {
    "scrolled": true
   },
   "outputs": [
    {
     "name": "stdout",
     "output_type": "stream",
     "text": [
      "CPU times: total: 0 ns\n",
      "Wall time: 0 ns\n"
     ]
    }
   ],
   "source": [
    "%%time\n",
    "# 推論実施\n",
    "interpreter.invoke()\n",
    "tflite_results = interpreter.get_tensor(output_details[0]['index'])"
   ]
  },
  {
   "cell_type": "code",
   "execution_count": 325,
   "metadata": {},
   "outputs": [
    {
     "name": "stdout",
     "output_type": "stream",
     "text": [
      "[5.3236657e-04 1.3581732e-01 5.9001464e-05 8.6350793e-01 8.3382067e-05]\n",
      "3\n"
     ]
    }
   ],
   "source": [
    "print(np.squeeze(tflite_results))\n",
    "print(np.argmax(np.squeeze(tflite_results)))"
   ]
  }
 ],
 "metadata": {
  "kernelspec": {
   "display_name": "Python 3 (ipykernel)",
   "language": "python",
   "name": "python3"
  },
  "language_info": {
   "codemirror_mode": {
    "name": "ipython",
    "version": 3
   },
   "file_extension": ".py",
   "mimetype": "text/x-python",
   "name": "python",
   "nbconvert_exporter": "python",
   "pygments_lexer": "ipython3",
   "version": "3.10.13"
  }
 },
 "nbformat": 4,
 "nbformat_minor": 4
}